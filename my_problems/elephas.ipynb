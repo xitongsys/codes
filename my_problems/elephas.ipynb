{
 "cells": [
  {
   "attachments": {},
   "cell_type": "markdown",
   "metadata": {},
   "source": [
    "# Elephas 相关题目"
   ]
  },
  {
   "attachments": {},
   "cell_type": "markdown",
   "metadata": {},
   "source": [
    "## P1. \n",
    "\n",
    "如果某国拥有 1 亿人口，拥有 1 万亿美元总财富，随机在任意人群财富分配里均存在“二八效应”，那么前 top 100 万人口大概拥有多少财富？（不需要太准确） \n",
    "\n",
    "### solve\n",
    "\n",
    "$f(0.2) = 0.8f(1)$ => $f(0.2^x) = 0.8^x f(1)$\n",
    "\n",
    "100万是总人口的1%，只要估算x使得$0.2^x = 0.01$即可求出"
   ]
  },
  {
   "cell_type": "code",
   "execution_count": 5,
   "metadata": {},
   "outputs": [
    {
     "name": "stdout",
     "output_type": "stream",
     "text": [
      "5280.879亿美元\n"
     ]
    }
   ],
   "source": [
    "import math\n",
    "\n",
    "x = math.log(0.01) / math.log(0.2)\n",
    "\n",
    "ans = 0.8**(x)*10000\n",
    "\n",
    "print(f'{ans:.3f}亿美元')\n"
   ]
  },
  {
   "attachments": {},
   "cell_type": "markdown",
   "metadata": {},
   "source": [
    "## P2\n",
    "\n",
    "四个人划船过河，只有一条船且船每次只能载两人，四人单独划船过河各需要 1、2、\n",
    "5、10 分钟，若两人一起过河需要的时间由需时更长的人决定（例如，需要 5 分钟和 8 分\n",
    "钟的两个人一起，过河需要 8 分钟），问全部人过完河最少需要多少时间？\n",
    "\n",
    "### sovle\n",
    "\n",
    "1. 1, 2 过去  2min\n",
    "2. 1 回去     1min\n",
    "3. 5,10 过去  10min\n",
    "4. 2 回去     2min\n",
    "5. 1,2 过去   2min\n",
    "\n",
    "17min\n"
   ]
  },
  {
   "attachments": {},
   "cell_type": "markdown",
   "metadata": {},
   "source": [
    "## P3\n",
    "\n",
    "7536！大概是多少位数字（求一个大概的数字即可，不需要特别准确）\n",
    "\n",
    "### solve\n",
    "\n",
    "取10为底的对数有\n",
    "\n",
    "$log(7536!) = \\sum_{x=1}^{7536}log(x)$ \n",
    "\n",
    "作为估算，我们把求和算成积分有\n",
    "\n",
    "$\\sum_{x=1}^{7536}log(x) = \\int_{1}^{7536}log(x)dx \\approx 26000$\n",
    "\n",
    "所以，大概有26000位\n"
   ]
  },
  {
   "attachments": {},
   "cell_type": "markdown",
   "metadata": {},
   "source": [
    "## P4\n",
    "\n",
    "38 个同学一起做游戏，每个人背后贴一个卡片，卡片有红、白两种颜色，两种颜色都有的，白色的会多一些，每个人可以看到别人的但不能看到自己的卡片颜色。第一轮投票中， 所有人都投票自己卡片颜色是白色，第二轮中，所有人都投票自己卡片颜色是白色，第三轮投票，有人开始投票自己卡片颜色是红色，每一轮投票后老师会公布投票结果。请问假定游戏参与者都很聪明，则第三轮会有多少人投票自己背后的颜色是红色？为什么？\n",
    "\n",
    "### solve\n",
    "\n",
    "1. 如果只有1个红的，第一轮这个红的没发现还有其他红的，就会投自己是红的。所以一定大于1个红的\n",
    "\n",
    "2. 如果有2个红的，每个红的只看到还有一个红的，最多自己也是个红的，而根据第一轮，说明自己一定是红的，所以第二轮两个红的一定会投红的。所以一定大于2个红的\n",
    "\n",
    "3. 第三轮开始有人投红的，说明经过前面两轮，有人已经知道自己一定是红的了，那就是有3个红的"
   ]
  },
  {
   "attachments": {},
   "cell_type": "markdown",
   "metadata": {},
   "source": [
    "## P5\n",
    "\n",
    "桌子上有两堆硬币，各30枚，你和我玩一个游戏，轮流拿硬币，谁先拿到最后一个硬币即为胜者，每次只能从其中一堆中拿取大于0枚的整数枚硬币数量，请问你选择先拿还是后拿，有必胜策略么，为什么？\n",
    "\n",
    "### solve\n",
    "   \n",
    "后拿必胜。只要根据先拿的情况去拿另一堆即可"
   ]
  },
  {
   "attachments": {},
   "cell_type": "markdown",
   "metadata": {},
   "source": [
    "## P6\n",
    "\n",
    "现在桌子上还是有两堆硬币，分别是33枚和31枚，游戏规则不变，请问你选择先拿还是后拿，有必胜策略么，为什么？\n",
    "\n",
    "### solve\n",
    "\n",
    "因为30,30是后拿必胜，那么我只要先拿走31中的一枚，转换成上一个问题了，那就是先拿必胜"
   ]
  },
  {
   "attachments": {},
   "cell_type": "markdown",
   "metadata": {},
   "source": [
    "## P7\n",
    "\n",
    "现在桌子上有三堆硬币，各30枚，游戏规则不变，请问你选择先拿还是后拿，有必胜策略么，为什么？\n",
    "\n",
    "### solve\n",
    "\n",
    "一样的，先拿必胜。直接拿走一堆，又是之前的问题两\n"
   ]
  },
  {
   "attachments": {},
   "cell_type": "markdown",
   "metadata": {},
   "source": [
    "## P8\n",
    "\n",
    "现在桌子上有n堆硬币，各m枚，其中n,m>=1, 游戏规则不变，请问你选择先拿还是后拿，有必胜策略么，为什么？\n",
    "\n",
    "### solve\n",
    "\n",
    "如果n = m，后拿必胜，否则，先拿必胜"
   ]
  },
  {
   "attachments": {},
   "cell_type": "markdown",
   "metadata": {},
   "source": [
    "## P9\n",
    "\n",
    "概率论：公司一共有员工27人，12个月中每个月份都有人过生日的概率是多少？（这里不考虑闰年，假设每个月都是30天）\n",
    "\n",
    "### solve\n",
    "\n",
    "就是求27个人随机放到12个格子里，每个格子都有人的概率\n",
    "\n",
    "有n个格子没有人的概率是 $p_n = (\\frac{12-n}{12})^{27}$\n",
    "\n",
    "所以每个月都有人的概率是\n",
    "\n",
    "$p = 1 - \\sum_{i=1}^{12}(-1)^{(i-1)} C_{12}^i p_n = 1 - \\sum_{i=1}^{12}(-1)^{(i-1)} C_{12}^i (\\frac{12-n}{12})^{27}$"
   ]
  },
  {
   "cell_type": "code",
   "execution_count": 11,
   "metadata": {},
   "outputs": [
    {
     "data": {
      "text/plain": [
       "0.2504424071945519"
      ]
     },
     "execution_count": 11,
     "metadata": {},
     "output_type": "execute_result"
    }
   ],
   "source": [
    "import math\n",
    "\n",
    "p = 0\n",
    "for i in range(1,13):\n",
    "    p += (-1)**(i-1) * math.comb(12, i) * ((12-i)/12)**27\n",
    "\n",
    "ans = 1 - p\n",
    "\n",
    "ans"
   ]
  }
 ],
 "metadata": {
  "kernelspec": {
   "display_name": "py310",
   "language": "python",
   "name": "python3"
  },
  "language_info": {
   "codemirror_mode": {
    "name": "ipython",
    "version": 3
   },
   "file_extension": ".py",
   "mimetype": "text/x-python",
   "name": "python",
   "nbconvert_exporter": "python",
   "pygments_lexer": "ipython3",
   "version": "3.10.8"
  },
  "orig_nbformat": 4
 },
 "nbformat": 4,
 "nbformat_minor": 2
}
