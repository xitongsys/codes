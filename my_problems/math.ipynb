{
 "cells": [
  {
   "attachments": {},
   "cell_type": "markdown",
   "metadata": {},
   "source": [
    "# some math problem\n",
    "\n",
    "## 核酸\n",
    "10人混管核酸，如果有1人阳性，则每个人都要再做一次单管核酸。如果社会面感染率超过多少，混管成本将大于全部单管成本？\n",
    "\n",
    "```\n",
    "设感染率为p,则 10 人全部为阴性的概率为 (1-p)^10, 有阳性的概率为1 - (1-p)^10\n",
    "所以平均检测次数为\n",
    "\n",
    "1*(1-p)^10 + 11*(1-(1-p)^10) >= 10\n",
    "\n",
    "解得 p = 0.20567\n",
    "```"
   ]
  }
 ],
 "metadata": {
  "language_info": {
   "name": "python"
  },
  "orig_nbformat": 4
 },
 "nbformat": 4,
 "nbformat_minor": 2
}
